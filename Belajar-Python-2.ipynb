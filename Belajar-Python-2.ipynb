{
 "metadata": {
  "name": "",
  "signature": "sha256:c591c6b5f4c884576164057d6131c5b59a5b938d1ea27af899c517b6fc8ed5c2"
 },
 "nbformat": 3,
 "nbformat_minor": 0,
 "worksheets": [
  {
   "cells": [
    {
     "cell_type": "heading",
     "level": 1,
     "metadata": {},
     "source": [
      "Work with different data formats (binary, netCDF, .mat)"
     ]
    },
    {
     "cell_type": "code",
     "collapsed": false,
     "input": [
      "%matplotlib inline\n",
      "import matplotlib.pylab as plt\n",
      "import numpy as np"
     ],
     "language": "python",
     "metadata": {},
     "outputs": [],
     "prompt_number": 1
    },
    {
     "cell_type": "heading",
     "level": 2,
     "metadata": {},
     "source": [
      "Binary data"
     ]
    },
    {
     "cell_type": "heading",
     "level": 3,
     "metadata": {},
     "source": [
      "Open binary"
     ]
    },
    {
     "cell_type": "markdown",
     "metadata": {},
     "source": [
      "See this webpage : https://github.com/koldunovn/python_for_geosciences/blob/master/04%20-%20Work%20with%20different%20data%20formats.ipynb"
     ]
    },
    {
     "cell_type": "markdown",
     "metadata": {},
     "source": [
      "Data dalam format bin dibuat file id nya:"
     ]
    },
    {
     "cell_type": "code",
     "collapsed": false,
     "input": [
      "ice = np.fromfile('nt_200709_f17_v01_n.bin', dtype='uint8')"
     ],
     "language": "python",
     "metadata": {},
     "outputs": []
    },
    {
     "cell_type": "markdown",
     "metadata": {},
     "source": [
      "We use uint8 data type. [List of numpy data types](http://docs.scipy.org/doc/numpy/user/basics.types.html)\n",
      "\n",
      "The file format consists of a 300-byte descriptive header followed by a two-dimensional array."
     ]
    },
    {
     "cell_type": "code",
     "collapsed": false,
     "input": [
      "ice = ice[300:]\n",
      "ice = ice.reshape(448,304)"
     ],
     "language": "python",
     "metadata": {},
     "outputs": []
    },
    {
     "cell_type": "markdown",
     "metadata": {},
     "source": [
      "Simple visualisation of array with imshow (Matplotlib function):"
     ]
    },
    {
     "cell_type": "code",
     "collapsed": false,
     "input": [
      "plt.imshow(ice)\n",
      "plt.colorbar();"
     ],
     "language": "python",
     "metadata": {},
     "outputs": []
    },
    {
     "cell_type": "markdown",
     "metadata": {},
     "source": [
      "**In order to work with other data formats we need to use one of the SciPy submodules:**"
     ]
    },
    {
     "cell_type": "heading",
     "level": 2,
     "metadata": {},
     "source": [
      "SciPy"
     ]
    },
    {
     "cell_type": "heading",
     "level": 3,
     "metadata": {},
     "source": [
      "Open .mat files"
     ]
    },
    {
     "cell_type": "code",
     "collapsed": false,
     "input": [
      "from scipy.io import loadmat"
     ],
     "language": "python",
     "metadata": {},
     "outputs": [],
     "prompt_number": 3
    },
    {
     "cell_type": "code",
     "collapsed": false,
     "input": [
      "all_variables = loadmat('PHC_jan.mat')"
     ],
     "language": "python",
     "metadata": {},
     "outputs": []
    },
    {
     "cell_type": "markdown",
     "metadata": {},
     "source": [
      "We can look at the names of variables stored in the file:"
     ]
    },
    {
     "cell_type": "code",
     "collapsed": false,
     "input": [
      "all_variables.keys()"
     ],
     "language": "python",
     "metadata": {},
     "outputs": []
    },
    {
     "cell_type": "markdown",
     "metadata": {},
     "source": [
      "We need only PTEMP1 (3d potential temperature). (PTEMP1 is a variable name in file)"
     ]
    },
    {
     "cell_type": "code",
     "collapsed": false,
     "input": [
      "temp = np.array(all_variables['PTEMP1'])"
     ],
     "language": "python",
     "metadata": {},
     "outputs": []
    },
    {
     "cell_type": "code",
     "collapsed": false,
     "input": [
      "temp.shape"
     ],
     "language": "python",
     "metadata": {},
     "outputs": []
    },
    {
     "cell_type": "code",
     "collapsed": false,
     "input": [
      "plt.imshow(temp[0,:,:])\n",
      "plt.colorbar();"
     ],
     "language": "python",
     "metadata": {},
     "outputs": []
    },
    {
     "cell_type": "heading",
     "level": 3,
     "metadata": {},
     "source": [
      "Open netCDF files"
     ]
    },
    {
     "cell_type": "markdown",
     "metadata": {},
     "source": [
      "Scipy have function for working with netCDF files, and you can import it with: from scipy.io import netcdf However it only supports netCDF3 format. It is better to use [python netcdf4](https://github.com/Unidata/netcdf4-python) module that have a lot of nice functionality. Moreover NCEP reanalysis data, that we are going to work with are in netCDF4 format.\n",
      "\n",
      "Import nessesary function:"
     ]
    },
    {
     "cell_type": "code",
     "collapsed": false,
     "input": [
      "from netCDF4 import Dataset"
     ],
     "language": "python",
     "metadata": {},
     "outputs": []
    },
    {
     "cell_type": "code",
     "collapsed": false,
     "input": [
      "fnc = Dataset('air.sig995.2012.nc')"
     ],
     "language": "python",
     "metadata": {},
     "outputs": []
    },
    {
     "cell_type": "markdown",
     "metadata": {},
     "source": [
      "It's not really file id, it's netcdf_file object, that have some methods and attributes:"
     ]
    },
    {
     "cell_type": "code",
     "collapsed": false,
     "input": [
      "fnc.description"
     ],
     "language": "python",
     "metadata": {},
     "outputs": []
    },
    {
     "cell_type": "code",
     "collapsed": false,
     "input": [
      "fnc.history"
     ],
     "language": "python",
     "metadata": {},
     "outputs": []
    },
    {
     "cell_type": "markdown",
     "metadata": {},
     "source": [
      "list variables"
     ]
    },
    {
     "cell_type": "code",
     "collapsed": false,
     "input": [
      "fnc.variables"
     ],
     "language": "python",
     "metadata": {},
     "outputs": []
    },
    {
     "cell_type": "markdown",
     "metadata": {},
     "source": [
      "Access information about variables"
     ]
    },
    {
     "cell_type": "code",
     "collapsed": false,
     "input": [
      "air = fnc.variables['air']"
     ],
     "language": "python",
     "metadata": {},
     "outputs": []
    },
    {
     "cell_type": "markdown",
     "metadata": {},
     "source": [
      "This time we create *netcdf_variable* object, that contain among other things attributes of the netCDF variable as well as data themselves."
     ]
    },
    {
     "cell_type": "code",
     "collapsed": false,
     "input": [
      "air.actual_range"
     ],
     "language": "python",
     "metadata": {},
     "outputs": []
    },
    {
     "cell_type": "code",
     "collapsed": false,
     "input": [
      "air.long_name"
     ],
     "language": "python",
     "metadata": {},
     "outputs": []
    },
    {
     "cell_type": "code",
     "collapsed": false,
     "input": [
      "air.units"
     ],
     "language": "python",
     "metadata": {},
     "outputs": []
    },
    {
     "cell_type": "code",
     "collapsed": false,
     "input": [
      "air.shape"
     ],
     "language": "python",
     "metadata": {},
     "outputs": []
    },
    {
     "cell_type": "heading",
     "level": 1,
     "metadata": {},
     "source": [
      "Graphs and maps (Matplotlib and Basemap)"
     ]
    },
    {
     "cell_type": "markdown",
     "metadata": {},
     "source": [
      "https://github.com/koldunovn/python_for_geosciences/blob/master/05%20-%20Graphs%20and%20maps%20(Matplotlib%20and%20Basemap).ipynb"
     ]
    },
    {
     "cell_type": "heading",
     "level": 1,
     "metadata": {},
     "source": [
      "Time series analysis (Pandas)"
     ]
    },
    {
     "cell_type": "markdown",
     "metadata": {},
     "source": [
      "https://github.com/koldunovn/python_for_geosciences/blob/master/06%20-%20Time%20series%20analysis%20(Pandas).ipynb"
     ]
    },
    {
     "cell_type": "heading",
     "level": 1,
     "metadata": {},
     "source": [
      "Other modules for geoscientists"
     ]
    },
    {
     "cell_type": "markdown",
     "metadata": {},
     "source": [
      "https://github.com/koldunovn/python_for_geosciences/blob/master/07%20-%20Other%20modules%20for%20geoscientists.ipynb"
     ]
    },
    {
     "cell_type": "heading",
     "level": 2,
     "metadata": {},
     "source": [
      "Iris"
     ]
    },
    {
     "cell_type": "markdown",
     "metadata": {},
     "source": [
      "Iris seeks to provide a powerful, easy to use, and community-driven Python library for analysing and visualising meteorological and oceanographic data sets. Kind of Ferret replacement. Developed in the Met Office by group of 7 full time developers. There are more than 300 active python users in Met Office.\n",
      "\n",
      "With Iris you can:\n",
      "\n",
      "- Use a single API to work on your data, irrespective of its original format.\n",
      "- Read and write (CF-)netCDF, GRIB, and PP files.\n",
      "- Easily produce graphs and maps via integration with matplotlib and cartopy."
     ]
    },
    {
     "cell_type": "heading",
     "level": 2,
     "metadata": {},
     "source": [
      "Cartopy"
     ]
    },
    {
     "cell_type": "markdown",
     "metadata": {},
     "source": [
      "Cartopy is a library providing cartographic tools for python.\n",
      "\n",
      "Some of the key features of cartopy are:\n",
      "\n",
      "- object oriented projection definitions\n",
      "- point, line, polygon and image transformations between projections\n",
      "- integration to expose advanced mapping in matplotlib with a simple and intuitive interface"
     ]
    },
    {
     "cell_type": "heading",
     "level": 2,
     "metadata": {},
     "source": [
      "Pydap"
     ]
    },
    {
     "cell_type": "markdown",
     "metadata": {},
     "source": [
      "Pydap is a pure Python library implementing the Data Access Protocol, also known as DODS or OPeNDAP. You can use Pydap as a client to access hundreds of scientific datasets in a transparent and efficient way through the internet; or as a server to easily distribute your data from a variety of formats."
     ]
    },
    {
     "cell_type": "heading",
     "level": 2,
     "metadata": {},
     "source": [
      "F2PY"
     ]
    },
    {
     "cell_type": "markdown",
     "metadata": {},
     "source": [
      "The F2PY project is created to unify the efforts of supporting easy connection between Fortran and Python languages. Example below is from Using Python and FORTRAN with F2py."
     ]
    },
    {
     "cell_type": "code",
     "collapsed": false,
     "input": [],
     "language": "python",
     "metadata": {},
     "outputs": []
    }
   ],
   "metadata": {}
  }
 ]
}
