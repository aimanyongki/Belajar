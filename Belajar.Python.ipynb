{
 "metadata": {
  "name": "",
  "signature": "sha256:87c415333e300764fc474e9b14ba26df78bcde92e906e9ec2c42cac8da66b4eb"
 },
 "nbformat": 3,
 "nbformat_minor": 0,
 "worksheets": [
  {
   "cells": [
    {
     "cell_type": "heading",
     "level": 1,
     "metadata": {},
     "source": [
      "IPython"
     ]
    },
    {
     "cell_type": "code",
     "collapsed": false,
     "input": [
      "%matplotlib inline\n",
      "import matplotlib.pylab as plt"
     ],
     "language": "python",
     "metadata": {},
     "outputs": [],
     "prompt_number": 1
    },
    {
     "cell_type": "heading",
     "level": 3,
     "metadata": {},
     "source": [
      "Getting Help"
     ]
    },
    {
     "cell_type": "markdown",
     "metadata": {},
     "source": [
      "Question mark after a function will open pager with *documentation*. Double question mark will show you *source code* of the function."
     ]
    },
    {
     "cell_type": "code",
     "collapsed": false,
     "input": [
      "plt.plot??"
     ],
     "language": "python",
     "metadata": {},
     "outputs": [],
     "prompt_number": 3
    },
    {
     "cell_type": "heading",
     "level": 3,
     "metadata": {},
     "source": [
      "Accessing the underlying operating system"
     ]
    },
    {
     "cell_type": "markdown",
     "metadata": {},
     "source": [
      "You can access system functions by typing exclamation mark."
     ]
    },
    {
     "cell_type": "code",
     "collapsed": false,
     "input": [
      "!dir"
     ],
     "language": "python",
     "metadata": {},
     "outputs": [],
     "prompt_number": 6
    },
    {
     "cell_type": "heading",
     "level": 3,
     "metadata": {},
     "source": [
      "Magic functions"
     ]
    },
    {
     "cell_type": "markdown",
     "metadata": {},
     "source": [
      "The magic function system provides a series of functions which allow you to control the behavior of IPython itself, plus a lot of system-type features."
     ]
    },
    {
     "cell_type": "code",
     "collapsed": false,
     "input": [
      "range(10)\n",
      "%timeit range(10)"
     ],
     "language": "python",
     "metadata": {},
     "outputs": [
      {
       "output_type": "stream",
       "stream": "stdout",
       "text": [
        "1000000 loops, best of 3: 448 ns per loop\n"
       ]
      }
     ],
     "prompt_number": 8
    },
    {
     "cell_type": "markdown",
     "metadata": {},
     "source": [
      "Print all interactive variables (similar to Matlab function):"
     ]
    },
    {
     "cell_type": "code",
     "collapsed": false,
     "input": [
      "%whos"
     ],
     "language": "python",
     "metadata": {},
     "outputs": [
      {
       "output_type": "stream",
       "stream": "stdout",
       "text": [
        "Variable   Type      Data/Info\n",
        "------------------------------\n",
        "plt        module    <module 'matplotlib.pylab<...>es\\matplotlib\\pylab.pyc'>\n"
       ]
      }
     ],
     "prompt_number": 9
    },
    {
     "cell_type": "markdown",
     "metadata": {},
     "source": [
      "------------------------------------------------------------------------------------------------------------------------------------------"
     ]
    },
    {
     "cell_type": "heading",
     "level": 1,
     "metadata": {},
     "source": [
      "Dasar Python"
     ]
    },
    {
     "cell_type": "code",
     "collapsed": false,
     "input": [
      "a = 10\n",
      "b = 10.\n",
      "c = '10'\n",
      "type(c)"
     ],
     "language": "python",
     "metadata": {},
     "outputs": [
      {
       "metadata": {},
       "output_type": "pyout",
       "prompt_number": 12,
       "text": [
        "str"
       ]
      }
     ],
     "prompt_number": 12
    },
    {
     "cell_type": "heading",
     "level": 2,
     "metadata": {},
     "source": [
      "Lists"
     ]
    },
    {
     "cell_type": "markdown",
     "metadata": {},
     "source": [
      "There are several other interesting variable types in Python, but the one we would need the most is the list.\n",
      "\n",
      "In order to create list put coma separated values in square brackets:"
     ]
    },
    {
     "cell_type": "markdown",
     "metadata": {},
     "source": [
      "Values in list can be any type:"
     ]
    },
    {
     "cell_type": "code",
     "collapsed": false,
     "input": [
      "l = ['one', 2, 'three', [1,2,3,4,5], 3+2]"
     ],
     "language": "python",
     "metadata": {},
     "outputs": [],
     "prompt_number": 15
    },
    {
     "cell_type": "markdown",
     "metadata": {},
     "source": [
      "You can access list values by index:"
     ]
    },
    {
     "cell_type": "code",
     "collapsed": false,
     "input": [
      "l[0]"
     ],
     "language": "python",
     "metadata": {},
     "outputs": [
      {
       "metadata": {},
       "output_type": "pyout",
       "prompt_number": 16,
       "text": [
        "'one'"
       ]
      }
     ],
     "prompt_number": 16
    },
    {
     "cell_type": "markdown",
     "metadata": {},
     "source": [
      "The third sequence is also a list, and its values can be accessed by indexes as well:"
     ]
    },
    {
     "cell_type": "code",
     "collapsed": false,
     "input": [
      "l[3][2]"
     ],
     "language": "python",
     "metadata": {},
     "outputs": [
      {
       "metadata": {},
       "output_type": "pyout",
       "prompt_number": 19,
       "text": [
        "3"
       ]
      }
     ],
     "prompt_number": 19
    },
    {
     "cell_type": "markdown",
     "metadata": {},
     "source": [
      "You also can acces multiple elements of the list using slices:"
     ]
    },
    {
     "cell_type": "code",
     "collapsed": false,
     "input": [
      "l[1:3]"
     ],
     "language": "python",
     "metadata": {},
     "outputs": [
      {
       "metadata": {},
       "output_type": "pyout",
       "prompt_number": 20,
       "text": [
        "[2, 'three']"
       ]
      }
     ],
     "prompt_number": 20
    },
    {
     "cell_type": "heading",
     "level": 2,
     "metadata": {},
     "source": [
      "Control Structures"
     ]
    },
    {
     "cell_type": "heading",
     "level": 3,
     "metadata": {},
     "source": [
      "For Loop"
     ]
    },
    {
     "cell_type": "markdown",
     "metadata": {},
     "source": [
      "This loop will print all elements from the list *l*"
     ]
    },
    {
     "cell_type": "code",
     "collapsed": false,
     "input": [
      "l = ['one', 2, 'three', [1,2,3,4,5], 3+2]\n",
      "\n",
      "for element in l:\n",
      "    print element"
     ],
     "language": "python",
     "metadata": {},
     "outputs": [
      {
       "output_type": "stream",
       "stream": "stdout",
       "text": [
        "one\n",
        "2\n",
        "three\n",
        "[1, 2, 3, 4, 5]\n",
        "5\n"
       ]
      }
     ],
     "prompt_number": 21
    },
    {
     "cell_type": "markdown",
     "metadata": {},
     "source": [
      "Two interesting thins here. First: *indentation*, it's in the code, you must use it, otherwise code will not work:"
     ]
    },
    {
     "cell_type": "markdown",
     "metadata": {},
     "source": [
      "Second - you can iterate through the elements of the list. There is an option to iterate through a bunch of numbers as we used to in Matlab:"
     ]
    },
    {
     "cell_type": "code",
     "collapsed": false,
     "input": [
      "for index in range(5):\n",
      "    print(l[index])"
     ],
     "language": "python",
     "metadata": {},
     "outputs": [
      {
       "output_type": "stream",
       "stream": "stdout",
       "text": [
        "one\n",
        "2\n",
        "three\n",
        "[1, 2, 3, 4, 5]\n",
        "5\n"
       ]
      }
     ],
     "prompt_number": 22
    },
    {
     "cell_type": "heading",
     "level": 4,
     "metadata": {},
     "source": [
      "Branches"
     ]
    },
    {
     "cell_type": "code",
     "collapsed": false,
     "input": [
      "x = -1\n",
      "if x > 0:\n",
      "   print \"Melting\"\n",
      "elif x == 0:\n",
      "   print \"Zero\"\n",
      "else:\n",
      "   print \"Freezing\""
     ],
     "language": "python",
     "metadata": {},
     "outputs": [
      {
       "output_type": "stream",
       "stream": "stdout",
       "text": [
        "Freezing\n"
       ]
      }
     ],
     "prompt_number": 23
    },
    {
     "cell_type": "heading",
     "level": 2,
     "metadata": {},
     "source": [
      "NumPy Arrays"
     ]
    },
    {
     "cell_type": "code",
     "collapsed": false,
     "input": [
      "%matplotlib inline \n",
      "import matplotlib.pylab as plt\n",
      "import numpy as np\n",
      "np.set_printoptions(precision=3) # this is just to make the output look better"
     ],
     "language": "python",
     "metadata": {},
     "outputs": [],
     "prompt_number": 1
    },
    {
     "cell_type": "code",
     "collapsed": false,
     "input": [
      "ao = np.loadtxt('monthly.ao.index.b50.current.ascii')"
     ],
     "language": "python",
     "metadata": {},
     "outputs": [],
     "prompt_number": 3
    },
    {
     "cell_type": "code",
     "collapsed": false,
     "input": [
      "ao"
     ],
     "language": "python",
     "metadata": {},
     "outputs": [
      {
       "metadata": {},
       "output_type": "pyout",
       "prompt_number": 4,
       "text": [
        "array([[  1.950e+03,   1.000e+00,  -6.031e-02],\n",
        "       [  1.950e+03,   2.000e+00,   6.268e-01],\n",
        "       [  1.950e+03,   3.000e+00,  -8.127e-03],\n",
        "       ..., \n",
        "       [  2.015e+03,   1.100e+01,   1.945e+00],\n",
        "       [  2.015e+03,   1.200e+01,   1.444e+00],\n",
        "       [  2.016e+03,   1.000e+00,  -1.449e+00]])"
       ]
      }
     ],
     "prompt_number": 4
    },
    {
     "cell_type": "code",
     "collapsed": false,
     "input": [
      "ao.shape"
     ],
     "language": "python",
     "metadata": {},
     "outputs": [
      {
       "metadata": {},
       "output_type": "pyout",
       "prompt_number": 5,
       "text": [
        "(793L, 3L)"
       ]
      }
     ],
     "prompt_number": 5
    },
    {
     "cell_type": "markdown",
     "metadata": {},
     "source": [
      "So it's a *row-major* order. Matlab and Fortran use *column-major* order for arrays."
     ]
    },
    {
     "cell_type": "code",
     "collapsed": false,
     "input": [
      "type(ao)"
     ],
     "language": "python",
     "metadata": {},
     "outputs": [
      {
       "metadata": {},
       "output_type": "pyout",
       "prompt_number": 7,
       "text": [
        "numpy.ndarray"
       ]
      }
     ],
     "prompt_number": 7
    },
    {
     "cell_type": "markdown",
     "metadata": {},
     "source": [
      "Numpy arrays are statically typed, which allow faster operations"
     ]
    },
    {
     "cell_type": "code",
     "collapsed": false,
     "input": [
      "ao.dtype"
     ],
     "language": "python",
     "metadata": {},
     "outputs": [
      {
       "metadata": {},
       "output_type": "pyout",
       "prompt_number": 8,
       "text": [
        "dtype('float64')"
       ]
      }
     ],
     "prompt_number": 8
    },
    {
     "cell_type": "markdown",
     "metadata": {},
     "source": [
      "Slicing works similarly to Matlab:"
     ]
    },
    {
     "cell_type": "code",
     "collapsed": false,
     "input": [
      "ao[0:5,:]"
     ],
     "language": "python",
     "metadata": {},
     "outputs": [
      {
       "metadata": {},
       "output_type": "pyout",
       "prompt_number": 9,
       "text": [
        "array([[  1.950e+03,   1.000e+00,  -6.031e-02],\n",
        "       [  1.950e+03,   2.000e+00,   6.268e-01],\n",
        "       [  1.950e+03,   3.000e+00,  -8.127e-03],\n",
        "       [  1.950e+03,   4.000e+00,   5.551e-01],\n",
        "       [  1.950e+03,   5.000e+00,   7.158e-02]])"
       ]
      }
     ],
     "prompt_number": 9
    },
    {
     "cell_type": "markdown",
     "metadata": {},
     "source": [
      "One can look at the data. This is done by matplotlib.pylab module that we have imported in the beggining as `plt`. We will plot only first 780 poins:"
     ]
    },
    {
     "cell_type": "code",
     "collapsed": false,
     "input": [
      "plt.plot(ao[:780,2])"
     ],
     "language": "python",
     "metadata": {},
     "outputs": [
      {
       "metadata": {},
       "output_type": "pyout",
       "prompt_number": 10,
       "text": [
        "[<matplotlib.lines.Line2D at 0x9fcc630>]"
       ]
      },
      {
       "metadata": {},
       "output_type": "display_data",
       "png": "[encoded data removed]",
       "text": [
        "<matplotlib.figure.Figure at 0x9ee15c0>"
       ]
      }
     ],
     "prompt_number": 10
    },
    {
     "cell_type": "heading",
     "level": 3,
     "metadata": {},
     "source": [
      "Index Slicing"
     ]
    },
    {
     "cell_type": "markdown",
     "metadata": {},
     "source": [
      "First 12 elements of **second column** (months). Remember that indexing starts with 0:"
     ]
    },
    {
     "cell_type": "code",
     "collapsed": false,
     "input": [
      "ao[0:12,1]"
     ],
     "language": "python",
     "metadata": {},
     "outputs": [
      {
       "metadata": {},
       "output_type": "pyout",
       "prompt_number": 11,
       "text": [
        "array([  1.,   2.,   3.,   4.,   5.,   6.,   7.,   8.,   9.,  10.,  11.,\n",
        "        12.])"
       ]
      }
     ],
     "prompt_number": 11
    },
    {
     "cell_type": "markdown",
     "metadata": {},
     "source": [
      "First raw:"
     ]
    },
    {
     "cell_type": "code",
     "collapsed": false,
     "input": [
      "ao[0,:]"
     ],
     "language": "python",
     "metadata": {},
     "outputs": [
      {
       "metadata": {},
       "output_type": "pyout",
       "prompt_number": 13,
       "text": [
        "array([  1.950e+03,   1.000e+00,  -6.031e-02])"
       ]
      }
     ],
     "prompt_number": 13
    },
    {
     "cell_type": "markdown",
     "metadata": {},
     "source": [
      "We can create mask, selecting all raws where values in second raw (months) equals 10 (October):"
     ]
    },
    {
     "cell_type": "code",
     "collapsed": false,
     "input": [
      "mask = (ao[:,1]==10)"
     ],
     "language": "python",
     "metadata": {},
     "outputs": [],
     "prompt_number": 14
    },
    {
     "cell_type": "markdown",
     "metadata": {},
     "source": [
      "Here we apply this mask and show only first 5 rowd of the array:"
     ]
    },
    {
     "cell_type": "code",
     "collapsed": false,
     "input": [
      "ao[mask][:5,:]"
     ],
     "language": "python",
     "metadata": {},
     "outputs": [
      {
       "metadata": {},
       "output_type": "pyout",
       "prompt_number": 15,
       "text": [
        "array([[  1.950e+03,   1.000e+01,  -3.789e-01],\n",
        "       [  1.951e+03,   1.000e+01,  -2.129e-01],\n",
        "       [  1.952e+03,   1.000e+01,  -4.372e-01],\n",
        "       [  1.953e+03,   1.000e+01,  -1.945e-01],\n",
        "       [  1.954e+03,   1.000e+01,   5.126e-01]])"
       ]
      }
     ],
     "prompt_number": 15
    },
    {
     "cell_type": "markdown",
     "metadata": {},
     "source": [
      "You don't have to create separate variable for mask, but apply it directly. Here instead of first five rows I show five last rows:"
     ]
    },
    {
     "cell_type": "code",
     "collapsed": false,
     "input": [
      "ao[ao[:,1]==10][-5:,:]"
     ],
     "language": "python",
     "metadata": {},
     "outputs": [
      {
       "metadata": {},
       "output_type": "pyout",
       "prompt_number": 16,
       "text": [
        "array([[  2.011e+03,   1.000e+01,   7.997e-01],\n",
        "       [  2.012e+03,   1.000e+01,  -1.514e+00],\n",
        "       [  2.013e+03,   1.000e+01,   2.628e-01],\n",
        "       [  2.014e+03,   1.000e+01,  -1.134e+00],\n",
        "       [  2.015e+03,   1.000e+01,  -2.501e-01]])"
       ]
      }
     ],
     "prompt_number": 16
    },
    {
     "cell_type": "markdown",
     "metadata": {},
     "source": [
      "You can combine conditions. In this case we select October-December data (only first 10 elements are shown):"
     ]
    },
    {
     "cell_type": "code",
     "collapsed": false,
     "input": [
      "ao[(ao[:,1]>=10)&(ao[:,1]<=12)][0:10,:]"
     ],
     "language": "python",
     "metadata": {},
     "outputs": [
      {
       "metadata": {},
       "output_type": "pyout",
       "prompt_number": 17,
       "text": [
        "array([[  1.950e+03,   1.000e+01,  -3.789e-01],\n",
        "       [  1.950e+03,   1.100e+01,  -5.151e-01],\n",
        "       [  1.950e+03,   1.200e+01,  -1.928e+00],\n",
        "       [  1.951e+03,   1.000e+01,  -2.129e-01],\n",
        "       [  1.951e+03,   1.100e+01,  -6.852e-02],\n",
        "       [  1.951e+03,   1.200e+01,   1.987e+00],\n",
        "       [  1.952e+03,   1.000e+01,  -4.372e-01],\n",
        "       [  1.952e+03,   1.100e+01,  -1.891e+00],\n",
        "       [  1.952e+03,   1.200e+01,  -1.827e+00],\n",
        "       [  1.953e+03,   1.000e+01,  -1.945e-01]])"
       ]
      }
     ],
     "prompt_number": 17
    },
    {
     "cell_type": "markdown",
     "metadata": {},
     "source": [
      "You can assiggn values to subset of values (this expression fixes the problem with very small value at 2015-04)"
     ]
    },
    {
     "cell_type": "code",
     "collapsed": false,
     "input": [
      "ao[ao<-10]=0"
     ],
     "language": "python",
     "metadata": {},
     "outputs": [],
     "prompt_number": 18
    },
    {
     "cell_type": "heading",
     "level": 2,
     "metadata": {},
     "source": [
      "Basic Statistics"
     ]
    },
    {
     "cell_type": "code",
     "collapsed": false,
     "input": [
      "ao_values = ao[:,2]\n",
      "ao_values.min()\n",
      "ao_values.std()\n",
      "np.mean(ao[ao[:,1]==1,2]) # January monthly mean\n",
      "ao[ao[:,1]==1,2].mean() #same as above"
     ],
     "language": "python",
     "metadata": {},
     "outputs": [
      {
       "metadata": {},
       "output_type": "pyout",
       "prompt_number": 20,
       "text": [
        "-0.40575814925373133"
       ]
      }
     ],
     "prompt_number": 20
    },
    {
     "cell_type": "heading",
     "level": 2,
     "metadata": {},
     "source": [
      "Saving Data"
     ]
    },
    {
     "cell_type": "code",
     "collapsed": false,
     "input": [
      "#  np.savetxt('ao_only_values.csv',ao[:, 2], fmt='%.4f')"
     ],
     "language": "python",
     "metadata": {},
     "outputs": [],
     "prompt_number": 21
    },
    {
     "cell_type": "markdown",
     "metadata": {},
     "source": [
      "You can also save it as binary:"
     ]
    },
    {
     "cell_type": "code",
     "collapsed": false,
     "input": [
      "f=open('ao_only_values.bin', 'w')\n",
      "ao[:,2].tofile(f)\n",
      "f.close()"
     ],
     "language": "python",
     "metadata": {},
     "outputs": []
    }
   ],
   "metadata": {}
  }
 ]
}