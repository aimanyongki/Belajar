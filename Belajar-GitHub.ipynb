{
 "metadata": {
  "name": "",
  "signature": "sha256:8734a1aa1f2614b198de555b22d7ec08b64e76ebb9f394375dbadabd1bb59281"
 },
 "nbformat": 3,
 "nbformat_minor": 0,
 "worksheets": [
  {
   "cells": [
    {
     "cell_type": "heading",
     "level": 1,
     "metadata": {},
     "source": [
      "Belajar GitHub - Kontrol Versi"
     ]
    },
    {
     "cell_type": "markdown",
     "metadata": {},
     "source": [
      "Kontrol Versi (Version Control) merupakan suatu sistem yang digunakan dalam manajemen kode program. Kegunaan utama dari sistem ini yaitu :\n",
      "1. Menyimpan versi lama dari kode\n",
      "2. Menggabungkan perubahan-perubahan kode dari versi lama ataupun menggabungkan perubahan dari orang lain."
     ]
    },
    {
     "cell_type": "heading",
     "level": 2,
     "metadata": {},
     "source": [
      "Instalasi Github"
     ]
    },
    {
     "cell_type": "markdown",
     "metadata": {},
     "source": [
      "Instalasi yang diambil dari [git-scm.com](git-scm.com) juga telah menyediakan program OpenSSH yang biasa digunakan untuk berkolaborasi dengan programmer lain. Verifikasi dapat dilakukan dengan menjalankan `git-bash` melalui Start Menu, dan kemudian mengetik `ssh`."
     ]
    },
    {
     "cell_type": "code",
     "collapsed": false,
     "input": [
      "from IPython.display import Image\n",
      "Image(url='http://i.imgur.com/laBnH.png')"
     ],
     "language": "python",
     "metadata": {},
     "outputs": [
      {
       "html": [
        "<img src=\"http://i.imgur.com/laBnH.png\"/>"
       ],
       "metadata": {},
       "output_type": "pyout",
       "prompt_number": 2,
       "text": [
        "<IPython.core.display.Image at 0x3976b00>"
       ]
      }
     ],
     "prompt_number": 2
    },
    {
     "cell_type": "heading",
     "level": 2,
     "metadata": {},
     "source": [
      "Inisialisasi"
     ]
    },
    {
     "cell_type": "markdown",
     "metadata": {},
     "source": [
      "Untuk dapat menggunakan sistem kontrol versi, terlebih dahulu kita harus mempersiapkan repositori. Sebuah repositori menyimpan seluruh versi dari kode program kita. Tidak usah takut, karena repositori tidak akan memakan banyak ruang hard disk, karena penyimpanan tidak dilakukan terhadap keseluruhan file. Repositori hanya akan menyimpan perubahan yang terjadi pada kode kita dari satu versi ke versi lainnya. Bahasa kerennya, repositori hanya menyimpan delta dari kode pada setiap versinya."
     ]
    },
    {
     "cell_type": "markdown",
     "metadata": {},
     "source": [
      "`git` merupakan sistem kontrol versi terdistribusi, yang berarti `git` dapat dijalankan tanpa perlu adanya repositori terpusat. Yang kita perlukan untuk membuat repositori ialah mengetikkan perintah tertentu di direktori utama kode kita."
     ]
    },
    {
     "cell_type": "markdown",
     "metadata": {},
     "source": [
      "Mari kita mulai membuat repositori baru. Pertama-tama, bergeraklah ke direktori utama kode kita terlebih dahulu:"
     ]
    },
    {
     "cell_type": "markdown",
     "metadata": {},
     "source": [
      "            $ cd Desktop/projects/git-tutor/\n",
      "            $ ls"
     ]
    },
    {
     "cell_type": "markdown",
     "metadata": {},
     "source": [
      "Perhatikan bahwa pada awalnya, direktori ini kosong. Kita akan menambahkan kode baru ke dalam direktori ini. Buat sebuah file baru yang bernama `cerita.txt` di dalam direktori tersebut:"
     ]
    },
    {
     "cell_type": "markdown",
     "metadata": {},
     "source": [
      "            $ echo \"ini adalah sebuah cerita\" > cerita.txt\n",
      "            $ ls"
     ]
    },
    {
     "cell_type": "markdown",
     "metadata": {},
     "source": [
      "> Catatan: untuk menyederhanakan artikel, maka contoh pada tulisan ini hanya menggunakan file teks. Segala perintah dan konsep yang digunakan dapat juga diterapkan pada kode program, karena pada dasarnya kode program adalah file teks."
     ]
    },
    {
     "cell_type": "markdown",
     "metadata": {},
     "source": [
      "dan kemudian masukkan perintah `git init` untuk melakukan inisialisasi repositori:"
     ]
    },
    {
     "cell_type": "markdown",
     "metadata": {},
     "source": [
      "            $ git init"
     ]
    },
    {
     "cell_type": "markdown",
     "metadata": {},
     "source": [
      "Setelah melakukan inisialisasi, `git` secara otomatis akan membuat direktori `.git` pada repositori kita (lihat potongan kode di bawah). Jangan lakukan apapun terhadap direktori ini. Direktori tersebut merupakan direktori yang digunakan oleh `git` untuk menyimpan basis data delta kode kita, dan berbagai metadata lainnya. Mengubah direktori tersebut dapat menyebabkan hilangnya seluruh history dari kode."
     ]
    },
    {
     "cell_type": "markdown",
     "metadata": {},
     "source": [
      "            $ ls -a"
     ]
    },
    {
     "cell_type": "heading",
     "level": 2,
     "metadata": {},
     "source": [
      "Penambahan File ke Repositori"
     ]
    },
    {
     "cell_type": "markdown",
     "metadata": {},
     "source": [
      "Setelah memiliki repositori, tentunya kita ingin menyimpan sejarah dari kode kita. Penyimpanan sejarah dapat dimulai dari saat pertama: kapan file tersebut dibuat dan ditambahkan ke dalam repositori. Untuk menambahkan file ke dalam repositori, gunakan perintah `git add`:"
     ]
    },
    {
     "cell_type": "markdown",
     "metadata": {},
     "source": [
      "            $ git add ."
     ]
    },
    {
     "cell_type": "markdown",
     "metadata": {},
     "source": [
      "> Catatan: peringatan yang diberikan oleh `git` pada contoh di atas tidak perlu diperhatikan. Pada dasarnya, peringatan ini hanya memberitahukan bahwa file akan disimpan oleh git dalam format pengganti baris Unix. Hal ini tidak akan terlalu berpengaruh, karena format seperti ini biasanya ditangani oleh editor secara otomatis."
     ]
    },
    {
     "cell_type": "markdown",
     "metadata": {},
     "source": [
      "Secara sederhana, sintaks dari perintah 'git' add adalah sebagai berikut:"
     ]
    },
    {
     "cell_type": "markdown",
     "metadata": {},
     "source": [
      "            git add [nama file atau pola]"
     ]
    },
    {
     "cell_type": "markdown",
     "metadata": {},
     "source": [
      "Tetapi perhatikan bahwa pada perintah di atas, kita memasukkan `.` alih-alih nama file. Memasukkan `.` pada nama file dalam perintah `git add` pada dasarnya akan memerintahkan `git` untuk menambahkan semua file baru dalam repositori. Jika hanya ingin menambahkan satu file (misalkan ada file yang belum yakin akan ditambahkan ke repositori), nama file spesifik dapat dimasukkan:"
     ]
    },
    {
     "cell_type": "markdown",
     "metadata": {},
     "source": [
      "            git add cerita.txt"
     ]
    },
    {
     "cell_type": "markdown",
     "metadata": {},
     "source": [
      "Setelah menambahkan file ke dalam repositori, kita harus melakukan *commit*. Perintah *commit* memberitahukan kepada `git` untuk menyimpan sejarah dari file yang telah ditambahkan. Pada `git`, penambahan, perubahan, ataupun penghapusan sebuah file baru akan tercatat jika perntah *commit* telah dijalankan. Sederhananya, memberikan perintah *commit* berarti berkata kepada git \u201cOi git, file yang tadi ditambahkan dan diubah itu dicatet ya. Masukin ke daftar sejarah.\u201d\n",
      "\n",
      "Mari lakukan *commit* dengan menjalankan perintah `git commit`:"
     ]
    },
    {
     "cell_type": "markdown",
     "metadata": {},
     "source": [
      "            $ git commit"
     ]
    },
    {
     "cell_type": "markdown",
     "metadata": {},
     "source": [
      "Perhatikan bahwa setelah memasukkan perintah `git commit`, anda akan dibawa ke sebuah teks editor untuk mengisikan pesan:"
     ]
    },
    {
     "cell_type": "markdown",
     "metadata": {},
     "source": [
      "Jika langkah di atas diikuti dengan benar, maka kita akan dibawa kembali ke git bash, dengan pesan berikut:"
     ]
    },
    {
     "cell_type": "markdown",
     "metadata": {},
     "source": [
      "            [master (root-commit) 1d4cdc9] Inisialisasi repo. Penambahan cerita.txt.\n",
      "            warning: LF will be replaced by CRLF in cerita.txt.\n",
      "            The file will have its original line endings in your working directory.\n",
      "             1 file changed, 1 insertion(+)\n",
      "             create mode 100644 cerita.txt"
     ]
    },
    {
     "cell_type": "heading",
     "level": 2,
     "metadata": {},
     "source": [
      "Mengubah Isi File"
     ]
    },
    {
     "cell_type": "markdown",
     "metadata": {},
     "source": [
      "Kegunaan utama kontrol versi (yang tercermin dari namanya) ialah melakukan manajemen perubahan secara otomatis untuk kita. Mari kita lihat apakah `git` benar-benar melakukan hal tersebut. Lakukan perubahan isi pada `cerita.txt`:"
     ]
    },
    {
     "cell_type": "code",
     "collapsed": false,
     "input": [
      "Image(url='http://i.imgur.com/DQBbz.png')"
     ],
     "language": "python",
     "metadata": {},
     "outputs": [
      {
       "html": [
        "<img src=\"http://i.imgur.com/DQBbz.png\"/>"
       ],
       "metadata": {},
       "output_type": "pyout",
       "prompt_number": 7,
       "text": [
        "<IPython.core.display.Image at 0x3976f28>"
       ]
      }
     ],
     "prompt_number": 7
    },
    {
     "cell_type": "markdown",
     "metadata": {},
     "source": [
      "dan kemudian jalankan perintah `git commit` lagi:"
     ]
    },
    {
     "cell_type": "markdown",
     "metadata": {},
     "source": [
      "            # On branch master\n",
      "            # Changes not staged for commit:\n",
      "            #   (use \"git add <file>...\" to update what will be committed)\n",
      "            #   (use \"git checkout -- <file>...\" to discard changes in working directory)\n",
      "            #\n",
      "            #       modified:   cerita.txt\n",
      "            #\n",
      "            no changes added to commit (use \"git add\" and/or \"git commit -a\")"
     ]
    },
    {
     "cell_type": "markdown",
     "metadata": {},
     "source": [
      "Perhatikan bahwa `git` secara otomatis mengetahui file mana saja yang berubah, tetapi tidak melakukan pencatatan perubahan tersebut. Untuk memerintahkan `git` mencatat perubahan tersebut, gunakan perintah `git commit -a`:"
     ]
    },
    {
     "cell_type": "markdown",
     "metadata": {},
     "source": [
      "            [master 61c4707] Kapitalisasi dan melengkapi kalimat.\n",
      "            1 file changed, 1 insertion(+), 1 deletion(-)"
     ]
    },
    {
     "cell_type": "markdown",
     "metadata": {},
     "source": [
      ">Catatan: Perintah `git commit -a` ini adalah merupakan perintah singkat untuk memanggil `git add` dan `git commit` dalam satu perintah. Karena harus menjalankan perintah tersebut setiap kali melakukan modifikasi, maka kita dapat langsung menjalankan `git commit -a` alih-alih kedua perintah tersebut."
     ]
    },
    {
     "cell_type": "markdown",
     "metadata": {},
     "source": [
      "Selain melakukan perubahan, tentunya terkadang kita ingin mengetahui perubahan-perubahan apa saja yang terjadi selama pengembangan. Untuk melihat daftar perubahan yang telah dilakukan, kita dapat menggunakan perintah `git log`:"
     ]
    },
    {
     "cell_type": "heading",
     "level": 2,
     "metadata": {},
     "source": [
      "Mengembalikan File ke Versi Lama"
     ]
    },
    {
     "cell_type": "heading",
     "level": 2,
     "metadata": {},
     "source": [
      "Pengecekan Status Repositori"
     ]
    },
    {
     "cell_type": "heading",
     "level": 2,
     "metadata": {},
     "source": [
      "Membaca File Lama, dan Menjalankan Mesin Waktu"
     ]
    },
    {
     "cell_type": "markdown",
     "metadata": {},
     "source": [
      "[http://bertzzie.com/post/17/kontrol-versi-dengan-git-bagian-1-pengunaan-solo](http://bertzzie.com/post/17/kontrol-versi-dengan-git-bagian-1-pengunaan-solo)"
     ]
    }
   ],
   "metadata": {}
  }
 ]
}
